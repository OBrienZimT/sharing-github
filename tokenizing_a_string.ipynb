{
 "cells": [
  {
   "cell_type": "markdown",
   "id": "1efaa2c5",
   "metadata": {},
   "source": [
    "## Exercise 122: Tokenizing a String\n",
    "\n",
    "Tokenizing is the process of converting a string into a list of substrings, known as\n",
    "tokens. In many circumstances, a list of tokens is far easier to work with than the\n",
    "original string because the original string may have irregular spacing. In some cases\n",
    "substantial work is also required to determine where one token ends and the next one\n",
    "begins.\n",
    "In a mathematical expression, tokens are items such as operators, numbers and\n",
    "parentheses. Some tokens, such as *, /, ˆ, ( and ) are easy to identify because the\n",
    "token is a single character, and the character is never part of another token. The + and\n",
    "- symbols are a little bit more challenging to handle because they might represent\n",
    "the addition or subtraction operator, or they might be part of a number token.\n",
    "\n",
    "```\n",
    "Hint: A + or - is an operator if the non-whitespace character immediately\n",
    "before it is part of a number, or if the non-whitespace character immediately\n",
    "before it is a close parenthesis. Otherwise it is part of a number.\n",
    "```\n",
    "\n",
    "Write a function that takes a string containing a mathematical expression as its\n",
    "only parameter and breaks it into a list of tokens. Each token should be a parenthesis,\n",
    "an operator, or a number with an optional leading + or - (for simplicity we will\n",
    "only work with integers in this problem). Return the list of tokens as the function’s\n",
    "result.\n",
    "You may assume that the string passed to your function always contains a valid\n",
    "mathematical expression consisting of parentheses, operators and integers. However,\n",
    "your function must handle variable amounts of whitespace between these\n",
    "elements. Include a main program that demonstrates your tokenizing function by\n",
    "reading an expression from the user and printing the list of tokens. Ensure that the\n",
    "main program will not run when the ﬁle containing your solution is imported into\n",
    "another program."
   ]
  },
  {
   "cell_type": "code",
   "execution_count": 1,
   "id": "c726d8f6",
   "metadata": {},
   "outputs": [
    {
     "name": "stdout",
     "output_type": "stream",
     "text": [
      "Enter a mathematical expression: (2/5 + 1) - 34\n",
      "The tokens are: ['(', '2', '/', '5', '+', '1', ')', '-', '34']\n"
     ]
    }
   ],
   "source": [
    "def tokenizer(string):\n",
    "\tstring = string.replace(' ', '')\n",
    "\ttokens = []\n",
    "\t\n",
    "\ti = 0\n",
    "\twhile i < len(string):\n",
    "\t\t# Handle the tokens that are always a single character\n",
    "\t\tif string[i] == '*' or string[i] == '/' or string[i] == '^' \\\n",
    "\t\t\tor string[i] == '(' or string[i] == ')':\n",
    "\t\t\ttokens.append(string[i])\n",
    "\t\t\ti += 1\n",
    "\t\t# Handle '-' and '+'\n",
    "\t\telif string[i] == '-' or string[i] == '+':\n",
    "\t\t\t# If there is a previous charater  and it is a number\n",
    "\t\t\t# Or close bracket then the - or + is a token on its own\n",
    "\t\t\tif i > 0 and (string[i-1] >= '0' and string[i-1] <= '9' or string[i-1] == ')'):\n",
    "\t\t\t\ttokens.append(string[i])\n",
    "\t\t\t\ti += 1\n",
    "\t\t\telse:\n",
    "\t\t\t\t# The + or - is part of a number\n",
    "\t\t\t\tnum = string[i]\n",
    "\t\t\t\ti += 1\n",
    "\t\t\t\t# Keep on adding characters to the token as long as they are digits\n",
    "\t\t\t\twhile i < len(string) and string[i] >= '0' and string[i] <= '9':\n",
    "\t\t\n",
    "        num = num + string[i]\n",
    "\t\t\t\t\ti += 1\n",
    "\t\t\t\ttokens.append(num)\n",
    "\n",
    "\t\t# Handle a number without a leading + or -\n",
    "\t\telif string[i] >= '0' and string[i] <= '9':\n",
    "\t\t\tnum = ''\n",
    "\t\t\t# Keep on adding characters as long as they are digits\n",
    "\t\t\twhile i < len(string) and string[i] >= '0' and string[i] <= '9':\n",
    "\t\t\t\tnum = num + string[i]\n",
    "\t\t\t\ti += 1\n",
    "\t\t\ttokens.append(num)\n",
    "\n",
    "\t\t# Any other character means the expression is not valid\n",
    "\t\t# Return an empty list to indicate that an error occured\n",
    "\t\telse:\n",
    "\t\t\treturn []\n",
    "\treturn tokens\n",
    "def main():\n",
    "\texp = input('Enter a mathematical expression: ')\n",
    "\ttokens = tokenizer(exp)\n",
    "\tprint('The tokens are:', tokens)\n",
    "\n",
    "if __name__ == '__main__':\n",
    "\tmain()\n"
   ]
  },
  {
   "cell_type": "code",
   "execution_count": null,
   "id": "038c0ccf",
   "metadata": {},
   "outputs": [],
   "source": []
  }
 ],
 "metadata": {
  "kernelspec": {
   "display_name": "Python 3",
   "language": "python",
   "name": "python3"
  },
  "language_info": {
   "codemirror_mode": {
    "name": "ipython",
    "version": 3
   },
   "file_extension": ".py",
   "mimetype": "text/x-python",
   "name": "python",
   "nbconvert_exporter": "python",
   "pygments_lexer": "ipython3",
   "version": "3.8.8"
  }
 },
 "nbformat": 4,
 "nbformat_minor": 5
}
